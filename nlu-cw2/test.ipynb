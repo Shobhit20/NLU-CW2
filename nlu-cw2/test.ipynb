{
 "cells": [
  {
   "cell_type": "markdown",
   "metadata": {},
   "source": [
    "## Testing individual sentences"
   ]
  },
  {
   "cell_type": "code",
   "execution_count": 1,
   "metadata": {},
   "outputs": [
    {
     "name": "stderr",
     "output_type": "stream",
     "text": [
      "/Users/shobhitmaheshwari/miniconda3/envs/nlu2/lib/python3.10/site-packages/tqdm/auto.py:21: TqdmWarning: IProgress not found. Please update jupyter and ipywidgets. See https://ipywidgets.readthedocs.io/en/stable/user_install.html\n",
      "  from .autonotebook import tqdm as notebook_tqdm\n"
     ]
    }
   ],
   "source": [
    "from seq2seq.data.dictionary import Dictionary\n",
    "import collections\n",
    "import re\n",
    "import torch\n",
    "from seq2seq import models\n",
    "import argparse\n",
    "import numpy as np\n",
    "import pandas as pd\n",
    "import seaborn as sns\n",
    "import matplotlib as mpl\n",
    "import matplotlib.pyplot as plt\n",
    "\n",
    "\n",
    "torch.manual_seed(42)\n",
    "\n",
    "SPACE_NORMALIZER = re.compile(\"\\s+\")\n",
    "\n",
    "src_dict =Dictionary.load('europarl_prepared/dict.de')\n",
    "tgt_dict = Dictionary.load('europarl_prepared/dict.en')\n",
    "\n",
    "\n",
    "def load_model(model_path):\n",
    "    state_dict = torch.load(model_path)\n",
    "    source_lang, target_lang = 'de', 'en'\n",
    "    # src_dict = Dictionary.load(os.path.join(data, 'dict.{:s}'.format(source_lang)))\n",
    "    # print('Loaded a source dictionary ({:s}) with {:d} words'.format(source_lang, len(src_dict)))\n",
    "    # tgt_dict = Dictionary.load(os.path.join(data, 'dict.{:s}'.format(target_lang)))\n",
    "    # print('Loaded a target dictionary ({:s}) with {:d} words'.format(target_lang, len(tgt_dict)))\n",
    "        # Build model and optimization criterion\n",
    "    model = models.build_model(state_dict['args'], src_dict, tgt_dict)\n",
    "    model.eval()\n",
    "    model.load_state_dict(state_dict['model'])\n",
    "    return model, state_dict['args']\n"
   ]
  },
  {
   "cell_type": "code",
   "execution_count": 2,
   "metadata": {},
   "outputs": [],
   "source": [
    "\n",
    "\n",
    "\n",
    "def word_tokenize(line):\n",
    "    line = SPACE_NORMALIZER.sub(\" \", line)\n",
    "    line = line.strip()\n",
    "    return line.split()\n",
    "\n",
    "unk_counter = collections.Counter()\n",
    "\n",
    "def unk_consumer(word, idx):\n",
    "    if idx == src_dict.unk_idx and word != src_dict.unk_word:\n",
    "        unk_counter.update([word])\n",
    "\n",
    "def merge(values, move_eos_to_beginning=False):\n",
    "    max_length = max(v.size(0) for v in values)\n",
    "    result = values[0].new(len(values), max_length).fill_(src_dict.pad_idx)\n",
    "    for i, v in enumerate(values):\n",
    "        if move_eos_to_beginning:\n",
    "            assert v[-1] == src_dict.eos_idx\n",
    "            result[i, 0] = src_dict.eos_idx\n",
    "            result[i, 1:len(v)] = v[:-1]\n",
    "        else:\n",
    "            result[i, :len(v)].copy_(v)\n",
    "    return result\n",
    "\n",
    "\n",
    "def generate_tokens(lines):  \n",
    "    tokens_list, len_list = [], []\n",
    "    for line in lines:\n",
    "\n",
    "        tokens = src_dict.binarize(line.strip(), word_tokenize, append_eos=True, consumer=unk_consumer)\n",
    "    \n",
    "        tokens = torch.tensor([tokens.numpy()]).to(torch.int64)\n",
    "        tokens = merge([s for s in tokens])\n",
    "        lengths = torch.LongTensor([s.numel() for s in tokens])\n",
    "        lengths, sort_order = lengths.sort(descending=True)\n",
    "        tokens.index_select(0, sort_order)\n",
    "        tokens_list.append(tokens)\n",
    "        len_list.append(lengths)\n",
    "    return tokens_list, len_list\n"
   ]
  },
  {
   "cell_type": "code",
   "execution_count": 3,
   "metadata": {},
   "outputs": [],
   "source": [
    "\n",
    "\n",
    "def generate_output(model, tokens, lengths, arch, max_len = 25):\n",
    "    all_hyps, attn_weights_all = {}, []\n",
    "    for i, _ in enumerate(tokens):\n",
    "        with torch.no_grad():\n",
    "            encoder_out = model.encoder(tokens[i], lengths[i])\n",
    "            go_slice = \\\n",
    "                torch.ones(tokens[i].shape[0], 1).fill_(tgt_dict.eos_idx).type_as(tokens[i])\n",
    "            prev_words = go_slice\n",
    "            next_words = None\n",
    "        for _ in range(max_len):\n",
    "            with torch.no_grad():\n",
    "                # Compute the decoder output by repeatedly feeding it the decoded sentence prefix\n",
    "                decoder_out, attn_weights = model.decoder(prev_words, encoder_out)\n",
    "            # Suppress <UNK>s\n",
    "            _, next_candidates = torch.topk(decoder_out, 2, dim=-1)\n",
    "            best_candidates = next_candidates[:, :, 0]\n",
    "            backoff_candidates = next_candidates[:, :, 1]\n",
    "            next_words = torch.where(best_candidates == tgt_dict.unk_idx, backoff_candidates, best_candidates)\n",
    "            prev_words = torch.cat([go_slice, next_words], dim=1)\n",
    "        decoded_batch = next_words.numpy()\n",
    "        output_sentences = [decoded_batch[row, :] for row in range(decoded_batch.shape[0])]\n",
    "        # Remove padding\n",
    "        temp = list()\n",
    "        for sent in output_sentences:\n",
    "            first_eos = np.where(sent == tgt_dict.eos_idx)[0]\n",
    "            if len(first_eos) > 0:\n",
    "                temp.append(sent[:first_eos[0]])\n",
    "            else:\n",
    "                temp.append([])\n",
    "        output_sentences = temp\n",
    "\n",
    "        # Convert arrays of indices into strings of words\n",
    "        output_sentences = [tgt_dict.string(sent) for sent in output_sentences]\n",
    "        for ii, sent in enumerate(output_sentences):\n",
    "            all_hyps[i] = sent\n",
    "        if arch!='transformer':\n",
    "            attn_weights_all.append({'attn_state':attn_weights})\n",
    "        else:\n",
    "            attn_weights_all.append(attn_weights)\n",
    "\n",
    "    return all_hyps, attn_weights_all\n",
    "\n",
    "\n",
    "def plot_sents(input, output, attn_weights):\n",
    "    for i in range(len(output.keys())):\n",
    "        attn_map = attn_weights[i].squeeze(dim=0).transpose(1, 0).detach().cpu().numpy()\n",
    "        src_str = input[i].split(' ') + ['<EOS>']\n",
    "        tgt_str = output[i].split(' ') + ['<EOS>']\n",
    "        attn_map = attn_map[:, :len(tgt_str)]\n",
    "        attn_df = pd.DataFrame(attn_map,\n",
    "                                index=src_str,\n",
    "                                columns=tgt_str)\n",
    "\n",
    "        sns.heatmap(attn_df, cmap='Blues', linewidths=0.25, vmin=0.0, vmax=1.0, xticklabels=True, yticklabels=True,\n",
    "                    fmt='.3f')\n",
    "        plt.yticks(rotation=0)\n",
    "        plt.show()\n",
    "        plt.clf()"
   ]
  },
  {
   "cell_type": "code",
   "execution_count": 10,
   "metadata": {},
   "outputs": [],
   "source": [
    "lines = ['ich danke herrn lindqvist .', 'vielen dank , herr monti .']\n",
    "\n",
    "model, args = load_model('checkpoints/checkpoint_best.pt')\n",
    "tokens, lengths = generate_tokens(lines)\n",
    "all_hyps, attn_weights_all = generate_output(model, tokens, lengths, args.arch)\n",
    "# plot_sents(lines, all_hyps, attn_weights_all)\n"
   ]
  },
  {
   "cell_type": "code",
   "execution_count": 11,
   "metadata": {},
   "outputs": [
    {
     "data": {
      "text/plain": [
       "(7, 6)"
      ]
     },
     "execution_count": 11,
     "metadata": {},
     "output_type": "execute_result"
    }
   ],
   "source": [
    "i=1\n",
    "src_str = lines[i].split(' ')\n",
    "tgt_str = all_hyps[i].split(' ')\n",
    "attn_map = attn_weights_all[i]['attn_state'].squeeze(dim=0).transpose(1, 0).detach().cpu().numpy()\n",
    "\n",
    "attn_map_transposed = attn_map[:, :len(tgt_str)]\n",
    "attn_map_transposed.shape"
   ]
  },
  {
   "cell_type": "code",
   "execution_count": 12,
   "metadata": {},
   "outputs": [
    {
     "data": {
      "image/png": "[encoded data removed]",
      "text/plain": [
       "<Figure size 600x800 with 1 Axes>"
      ]
     },
     "metadata": {},
     "output_type": "display_data"
    }
   ],
   "source": [
    "import networkx as nx\n",
    "import matplotlib.pyplot as plt\n",
    "import matplotlib.colors as mcolors\n",
    "\n",
    "# Sample data\n",
    "\n",
    "# Create a bipartite graph\n",
    "G = nx.Graph()\n",
    "\n",
    "# Add German nodes\n",
    "for i in range(len(src_str)):\n",
    "    G.add_node(f'German_{src_str[i]}')\n",
    "\n",
    "# Add English nodes\n",
    "for j in range(len(tgt_str)):\n",
    "    G.add_node(f'English_{tgt_str[j]}')\n",
    "\n",
    "# Add edges with weights\n",
    "for i in range(len(src_str)):\n",
    "    for j in range(len(tgt_str)):\n",
    "        weight = attn_map[i][j]\n",
    "        G.add_edge(f'German_{src_str[i]}', f'English_{tgt_str[j]}', weight=weight)\n",
    "\n",
    "# Draw the graph\n",
    "plt.figure(figsize=(6, 8))  # Adjust the figure size\n",
    "pos = {}\n",
    "for i, node in enumerate(src_str):\n",
    "    pos[f'German_{node}'] = (i, 1)\n",
    "for j, node in enumerate(tgt_str):\n",
    "    pos[f'English_{node}'] = (j, 0)  # Adjust the y-coordinate for English nodes\n",
    "\n",
    "# Draw nodes\n",
    "nx.draw_networkx_nodes(G, pos, nodelist=[node for node in G.nodes if node.startswith('German')],\n",
    "                       node_shape='s', node_color='lightblue', node_size=500)\n",
    "nx.draw_networkx_nodes(G, pos, nodelist=[node for node in G.nodes if node.startswith('English')],\n",
    "                       node_shape='s', node_color='lightcoral', node_size=500)\n",
    "\n",
    "# Draw edges with thickness proportional to weight\n",
    "edge_weights = [G[u][v]['weight'] * 5 for u, v in G.edges()]\n",
    "cmap = plt.cm.Blues  # Define a colormap\n",
    "norm = mcolors.Normalize(vmin=min(edge_weights), vmax=max(edge_weights))\n",
    "edge_colors = [cmap(norm(weight)) for weight in edge_weights]\n",
    "nx.draw_networkx_edges(G, pos, width=edge_weights, edge_color=edge_colors)\n",
    "\n",
    "# Draw labels\n",
    "for node, (x, y) in pos.items():\n",
    "    if node.startswith('German'):\n",
    "        plt.text(x, y + 0.2, node.split(\"_\")[-1], ha='center', va='center', fontsize=11)\n",
    "    else:  # For English nodes, place labels above\n",
    "        plt.text(x, y - 0.2, node.split(\"_\")[-1], ha='center', va='center', fontsize=11)\n",
    "\n",
    "plt.gca().set_aspect('equal', adjustable='box')  # Make the aspect ratio equal to avoid distortion\n",
    "\n",
    "plt.axis('off')\n",
    "plt.show()"
   ]
  },
  {
   "cell_type": "markdown",
   "metadata": {},
   "source": []
  }
 ],
 "metadata": {
  "kernelspec": {
   "display_name": "nlu2",
   "language": "python",
   "name": "python3"
  },
  "language_info": {
   "codemirror_mode": {
    "name": "ipython",
    "version": 3
   },
   "file_extension": ".py",
   "mimetype": "text/x-python",
   "name": "python",
   "nbconvert_exporter": "python",
   "pygments_lexer": "ipython3",
   "version": "3.10.13"
  }
 },
 "nbformat": 4,
 "nbformat_minor": 2
}
